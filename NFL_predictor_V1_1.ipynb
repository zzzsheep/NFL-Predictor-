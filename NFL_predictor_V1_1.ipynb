{
  "cells": [
    {
      "cell_type": "markdown",
      "metadata": {
        "id": "view-in-github",
        "colab_type": "text"
      },
      "source": [
        "<a href=\"https://colab.research.google.com/github/zzzsheep/NFL-Predictor-/blob/main/NFL_predictor_V1_1.ipynb\" target=\"_parent\"><img src=\"https://colab.research.google.com/assets/colab-badge.svg\" alt=\"Open In Colab\"/></a>"
      ]
    },
    {
      "cell_type": "code",
      "execution_count": null,
      "metadata": {
        "id": "59st27bslEiO"
      },
      "outputs": [],
      "source": [
        "#Install Packages\n",
        "!pip install nfl_data_py\n",
        "!pip install pandas\n",
        "!pip install os\n",
        "!pip install matplotlib\n"
      ]
    },
    {
      "cell_type": "code",
      "execution_count": null,
      "metadata": {
        "id": "VNOlm5d2lcO-"
      },
      "outputs": [],
      "source": [
        "import nfl_data_py as nfl\n",
        "import pandas as pd\n",
        "import os\n",
        "import urllib.request\n",
        "import matplotlib.pyplot as plt"
      ]
    },
    {
      "cell_type": "markdown",
      "metadata": {
        "id": "Qc_yNpBftKoJ"
      },
      "source": [
        "**Imports play-by-play data**"
      ]
    },
    {
      "cell_type": "code",
      "execution_count": null,
      "metadata": {
        "id": "FnQXc7OVtKY9"
      },
      "outputs": [],
      "source": [
        "pbp_data = nfl.import_pbp_data([2021, 2022, 2023, 2024], downcast=True)\n",
        "teams = pd.unique(pbp_data[['home_team', 'away_team', 'posteam', 'defteam']].values.ravel())\n",
        "# Print the list of unique teams\n",
        "print(\"All unique teams:\", teams)\n",
        "\n",
        "#df_passing = pd.read_csv('nfl_team_stats_2024.csv')\n",
        "#df_rushing = pd.read_csv('nfl_team_rushing_stats_2024.csv')"
      ]
    },
    {
      "cell_type": "markdown",
      "metadata": {
        "id": "L_O0vgacq5ud"
      },
      "source": [
        "**ALL functions used**"
      ]
    },
    {
      "cell_type": "code",
      "execution_count": null,
      "metadata": {
        "id": "dXJwXaOzldK1"
      },
      "outputs": [],
      "source": [
        "# Converts player name to match abbreviation name in dataset\n",
        "def parse_name(player_name):\n",
        "  parts = player_name.split()\n",
        "  if len(parts) < 2:\n",
        "    raise ValueError(\"No valid first or last name\")\n",
        "  first_init = parts[0][0]\n",
        "  last_name = ' '.join(parts[1:])\n",
        "  abbr_name = first_init + '.' + last_name\n",
        "  return abbr_name\n",
        "\n",
        "# NOt complete\n",
        "def check_name(player, player_data):\n",
        "    player_info = player_data['receiver_id'].iloc[0]\n",
        "    print(player_info)\n",
        "\n",
        "    if not player_info.empty:\n",
        "      name = player_info['player_name'].iloc[0]\n",
        "      print(name)\n",
        "    else:\n",
        "      raise ValueError(\"player_id not found\")\n",
        "\n",
        "\n",
        "# Determine the correct column to filter based on the player’s position\n",
        "def player_pos(position):\n",
        "  if position == 'qb':\n",
        "      return 'passer'\n",
        "  elif position == 'rb':\n",
        "      return 'rusher'\n",
        "  elif position == 'wr':\n",
        "      return'receiver'\n",
        "  else:\n",
        "      raise ValueError(\"Invalid position entered! Choose from passer, rusher, or receiver.\")\n",
        "\n",
        "# Calculates the average total yards per game\n",
        "def average_calc(player_data, season=None, data_type=None):\n",
        "  if season == 'current':\n",
        "      total_games = player_data['games'].sum()\n",
        "  else:\n",
        "      total_games = player_data['game_id'].nunique()\n",
        "\n",
        "  if data_type == \"passing\":\n",
        "    total_yards = player_data['passing_yards'].sum()\n",
        "  if data_type == \"rushing\":\n",
        "    total_yards = player_data['rushing_yards'].sum()\n",
        "  if data_type == \"receiving\":\n",
        "    total_yards = player_data['receiving_yards'].sum()\n",
        "\n",
        "  if total_games > 0:\n",
        "    return round(total_yards / total_games, 2)   # Calculate average with total games and yards\n",
        "  else:\n",
        "    return 0  # Handle case where no games are played\n",
        "\n",
        "# Displays data from player, has parameter for which season\n",
        "def player_stats_summary(player_season, values, groupby, pos, data_type=None, player=None):\n",
        "\n",
        "  player_stats_summary = (player_season\n",
        "         .loc[:, values]\n",
        "         .groupby(groupby,\n",
        "                  as_index=False)\n",
        "         .sum(numeric_only=True))\n",
        "  if pos == 'passer':\n",
        "    if data_type != 'current':\n",
        "        player_stats_summary['avg passing ypg'] = average_calc(player_season, None, 'passing')\n",
        "        player_stats_summary['total_games'] = player_season['game_id'].nunique()\n",
        "        new_column_order = ['season', 'passer', 'total_games', 'avg passing ypg','pass', 'passing_yards','pass_attempt',\n",
        "                      'complete_pass', 'rushing_yards', 'sack', 'yards_gained',\n",
        "                      'pass_touchdown']\n",
        "\n",
        "    else:\n",
        "        player_stats_summary['player'] = player\n",
        "        player_stats_summary['avg passing ypg'] = average_calc(player_season, 'current', 'passing')\n",
        "        new_column_order = ['season', 'player','games',\n",
        "                            'avg passing ypg','passing_yards', 'rushing_yards',\n",
        "                            'sack_yards']\n",
        "\n",
        "    player_stats_summary = player_stats_summary[new_column_order]\n",
        "    print(player_stats_summary.to_string(index=False))\n",
        "\n",
        "    return player_stats_summary['avg passing ypg'].values[0]\n",
        "\n",
        "\n",
        "\n",
        "  if pos == 'rusher':\n",
        "    if data_type != 'current':\n",
        "      player_stats_summary['avg rushing ypg'] = average_calc(player_season, None, 'rushing')\n",
        "      player_stats_summary['total_games'] = player_season['game_id'].nunique()\n",
        "      new_column_order = ['season', 'rusher', 'total_games' , 'avg rushing ypg','rushing_yards',\n",
        "                          'rush_attempt', 'rush_touchdown', 'rush']\n",
        "\n",
        "    else:\n",
        "      player_stats_summary['player'] = player\n",
        "      player_stats_summary['avg rushing ypg'] = average_calc(player_season, 'current', 'rushing')\n",
        "      new_column_order = ['season', 'player', 'games', 'avg rushing ypg', 'rushing_yards', 'completions',\n",
        "                    'attempts', 'rushing_tds', 'receptions', 'targets', 'receiving_yards', 'carries']\n",
        "\n",
        "    player_stats_summary = player_stats_summary[new_column_order]\n",
        "    print(player_stats_summary.to_string(index=False))\n",
        "    return player_stats_summary['avg rushing ypg'].values[0]\n",
        "\n",
        "\n",
        "  if pos == 'receiver':\n",
        "    if data_type != \"current\":\n",
        "      player_stats_summary['avg receiving ypg'] = average_calc(player_season, None, 'receiving')\n",
        "      player_stats_summary['total_games'] = player_season['game_id'].nunique()\n",
        "      new_column_order = ['season', 'receiver', 'total_games', 'avg receiving ypg', 'receiving_yards',\n",
        "         'rush_attempt', 'touchdown', 'first_down']\n",
        "    else:\n",
        "      player_stats_summary['player'] = player\n",
        "      player_stats_summary['avg receiving ypg'] = average_calc(player_season, 'current', 'receiving')\n",
        "      new_column_order = ['season', 'player', 'games', 'avg receiving ypg', 'receiving_yards', 'receptions',\n",
        "                    'attempts', 'receptions', 'targets', 'receiving_yards', 'receiving_tds','receiving_first_downs', 'receiving_epa']\n",
        "    player_stats_summary = player_stats_summary[new_column_order]\n",
        "    print(player_stats_summary.to_string(index=False))\n",
        "\n",
        "    return player_stats_summary['avg receiving ypg'].values[0]\n",
        "\n",
        "\n",
        "# Gets player's player id by using roster import\n",
        "def player_info(player_name):\n",
        "  rosters = nfl.import_seasonal_rosters([2024], ['player_id', 'player_name', 'week'])\n",
        "  player_info = rosters[rosters['player_name'].str.contains(player_name, case=False, na=False)]\n",
        "\n",
        "  if not player_info.empty:\n",
        "\n",
        "    player_id = player_info['player_id'].iloc[0]\n",
        "\n",
        "    return player_id\n",
        "  else:\n",
        "    raise ValueError(\"player_id not found\")\n",
        "\n",
        "# Get Opponent team Rushing and Passing Yards per Game\n",
        "def opp_team_stats(defteam, season, hometeam=None, yard_type=None):\n",
        "  print(\"No data found, replacing with preset data.\")\n",
        "\n",
        "  data = pbp_data[(pbp_data['defteam'] == defteam) &\n",
        "                  (pbp_data['season'] == season)]\n",
        "\n",
        "  total_games = data['game_id'].nunique()\n",
        "  if data.empty:\n",
        "    print(f\"Opp team did not play in the {season} season.\")\n",
        "    return 0\n",
        "\n",
        "  opp_receiving_yards = pbp_data[\n",
        "    (pbp_data['defteam'] == defteam) &                   # Rams are on defense\n",
        "    (pbp_data['posteam'] == hometeam) &                  # Miami Dolphins are on offense\n",
        "    (pbp_data['position'] == 'wr')                    # Only wide receivers\n",
        "]\n",
        "\n",
        "\n",
        "  total_receiving_yards_allowed = opp_receiving_yards['receiving_yards'].sum()\n",
        "  if yard_type == 'rusher':\n",
        "    avg_rushing_yds = data['rushing_yards'].sum() / total_games\n",
        "    print(f\"\\033[1;32m\\nChanged {yard_type} yards value to: {round(avg_rushing_yds, 2)}\\033[0m\\n\")\n",
        "    return avg_rushing_yds\n",
        "  if yard_type == 'passer':\n",
        "    avg_passing_yds = data['passing_yards'].sum() / total_games\n",
        "    print(f\"\\033[1;32m\\nChanged {yard_type} yards value to: {round(avg_passing_yds, 2)}\\033[0m\\n\")\n",
        "    return avg_passing_yds\n",
        "  else:\n",
        "    avg_receiving_yds = total_receiving_yards_allowed / total_games\n",
        "    print(f\"\\033[1;32m\\nChanged {yard_type} yards value to: {round(avg_receiving_yds, 2)}\\033[0m\\n\")\n",
        "    return avg_receiving_yds\n",
        "\n",
        "# Return how many weeks currently in season\n",
        "  # Get weekly data\n",
        "def get_current_week(season_type, season):\n",
        "  pbp_data_weekly = nfl.import_weekly_data([season], downcast=True)\n",
        "  current_week = pbp_data_weekly[pbp_data_weekly['season_type'] == season_type]['week'].max()\n",
        "  #print(\"Current week in \" + game_type + \" season:\", current_week)\n",
        "  return current_week\n",
        "\n",
        "\n",
        "\n",
        "#pbp_data.columns.values#<--shows all variables\n",
        "#pbp_data.head(10)"
      ]
    },
    {
      "cell_type": "markdown",
      "metadata": {
        "id": "7U9VfG3XDpgG"
      },
      "source": [
        "**EXCEPTION FUNCTIONS**"
      ]
    },
    {
      "cell_type": "code",
      "execution_count": null,
      "metadata": {
        "id": "xsrpmG6IDpUl"
      },
      "outputs": [],
      "source": [
        "# Check if player is a rookie player season<=1\n",
        "def rookie(player_data, player, column):\n",
        "  player_values = player_data[player_data[column] == player]\n",
        "  seasons_played = player_values['season'].nunique()\n",
        "  if seasons_played < 1:\n",
        "    print(f\"\\033[1;31mWARNING!!! {player} has played in {seasons_played} seasons.\\033[0m\")\n",
        "\n",
        "# QB ONLY, check if player has been traded since last season\n",
        "def traded_exc(player_data=None, player=None):\n",
        "  player_team_past = player_data[player_data['player_name'] == player]\n",
        "  last_season_team = player_data[player_data['season'] == last_year]['recent_team'].unique()\n",
        "  current_season_team = player_data[player_data['season'] == current_year]['recent_team'].unique()\n",
        "  team_count = player_team_past.groupby('season')['recent_team'].unique()\n",
        "  for season, team in team_count.items():\n",
        "    team_list = ','.join(team)\n",
        "    print(f\"In season {season}, {player_name} played for: {team_list}\")\n",
        "  if set(last_season_team)!= set(current_season_team):\n",
        "    print(f\"\\033[1;31mWARNING!!! {player} has been traded since the last season.\\033[0m\")\n",
        "  return current_season_team\n",
        "# Check if player has played against opp team in the past 2-3 seasons\n",
        "def total_game_against_opp(player_data, def_team, player, pos):\n",
        "  total_games = player_data[(player_data['defteam'] == def_team) &\n",
        "                            (player_data[pos] == player)]['game_id'].nunique()\n",
        "\n",
        "  if total_games < 1:\n",
        "    print(f\"\\033[1;31mWARNING!!! {player} hasn't played against {def_team} in the last 2-3 years!\\033[0m\")\n",
        "    return True\n",
        "  if total_games < 2:\n",
        "    print(f\"\\033[1;31mWARNING!!! {player} has only played 1 game aginst {def_team} in the last 2-3 years!\\033[0m\")\n",
        "    return True\n",
        "\n",
        "  return False\n",
        "\n"
      ]
    },
    {
      "cell_type": "markdown",
      "metadata": {
        "id": "UucOX5S5DV_q"
      },
      "source": [
        "**QUARTERBACK VALUES**"
      ]
    },
    {
      "cell_type": "code",
      "execution_count": null,
      "metadata": {
        "id": "zSZsF_abgo3r"
      },
      "outputs": [],
      "source": [
        "\n",
        "qb_values = ['season', 'season_type','passer', 'game_id', 'pass', 'passing_yards', 'pass_attempt',\n",
        "            'complete_pass', 'rushing_yards',\n",
        "            'sack', 'yards_gained', 'pass_touchdown']\n",
        "\n",
        "qb_groupby_values = ['season', 'passer']\n",
        "\n",
        "qb_values_current = ['season', 'player_id', 'games','season_type', 'passing_yards', 'rushing_yards', 'sack_yards']\n",
        "\n",
        "qb_groupby_current_values = ['season', 'player_id']"
      ]
    },
    {
      "cell_type": "markdown",
      "metadata": {
        "id": "8C0Tue_fESm2"
      },
      "source": [
        "**RUNNINGBACK VALUES**"
      ]
    },
    {
      "cell_type": "code",
      "execution_count": null,
      "metadata": {
        "id": "cEepVBN0ERfZ"
      },
      "outputs": [],
      "source": [
        "rb_values = ['season', 'season_type','rusher', 'game_id', 'rushing_yards',\n",
        " 'rush_attempt', 'rush_touchdown', 'rush']\n",
        "\n",
        "rb_groupby_values = ['season', 'rusher']\n",
        "\n",
        "rb_values_current = ['season', 'player_id', 'games', 'season_type', 'rushing_yards', 'completions',\n",
        "                    'attempts', 'rushing_tds', 'receptions', 'targets', 'receiving_yards', 'carries']\n",
        "\n",
        "rb_groupby_current_values = ['season', 'player_id']"
      ]
    },
    {
      "cell_type": "markdown",
      "metadata": {
        "id": "pY1nzV-9JwFT"
      },
      "source": [
        "**WIDERECEIVERS VALUES**"
      ]
    },
    {
      "cell_type": "code",
      "execution_count": null,
      "metadata": {
        "id": "VEEGgPqgJ958"
      },
      "outputs": [],
      "source": [
        "wr_values =['season', 'season_type','receiver', 'game_id', 'receiving_yards',\n",
        " 'rush_attempt', 'touchdown', 'first_down']\n",
        "wr_groupby_values = ['season', 'receiver']\n",
        "wr_values_current = ['season', 'player_id', 'games', 'season_type', 'receiving_yards', 'receptions',\n",
        "                    'attempts', 'receptions', 'targets', 'receiving_yards', 'receiving_tds','receiving_first_downs', 'receiving_epa']\n",
        "wr_groupby_current_values = ['season', 'player_id']"
      ]
    },
    {
      "cell_type": "markdown",
      "metadata": {
        "id": "IVEqZ1hKrOkC"
      },
      "source": [
        "###**INPUT FROM USER**"
      ]
    },
    {
      "cell_type": "code",
      "execution_count": null,
      "metadata": {
        "id": "4oOOsNPWdeZb"
      },
      "outputs": [],
      "source": [
        "test = False\n",
        "\n",
        "if test:\n",
        "  player_name = \"Justin Jefferson\"\n",
        "  abbr_player_name = \"J.Jefferson\"\n",
        "  oppo_team = \"NYG\"\n",
        "  current_year = 2024\n",
        "  last_year = current_year - 1\n",
        "  column = player_pos('wr')\n",
        "  game_type = \"REG\"\n",
        "else:\n",
        "  player_name = input(\"input of player name: \")\n",
        "  abbr_player_name = parse_name(player_name)\n",
        "  oppo_team = input(\"opposing team abbr: \")\n",
        "  current_year = int(input(\"current season: \"))\n",
        "  column = player_pos(input(\"Enter player position (qb, rb, wr, te): \").strip().lower() )  # Ask for player position to decide which column to filter\n",
        "  last_year = current_year - 1\n",
        "  game_type = 'REG'\n",
        "\n",
        "# Check for exceptions\n",
        "\n",
        "rookie(pbp_data, abbr_player_name, column)\n",
        "if column == 'passer':\n",
        "    pbp_data_weekly = nfl.import_weekly_data([last_year, current_year], downcast=True)\n",
        "    player_team = traded_exc(pbp_data_weekly, abbr_player_name)\n",
        "\n",
        "swap_percentage = total_game_against_opp(pbp_data, oppo_team, abbr_player_name, column)"
      ]
    },
    {
      "cell_type": "markdown",
      "metadata": {
        "id": "fixhK1OPo9jU"
      },
      "source": [
        "**CALCULATE HOW MANY WEEKS WE ARE IN THE SEASON**"
      ]
    },
    {
      "cell_type": "code",
      "execution_count": null,
      "metadata": {
        "id": "oOQw4ojquknX"
      },
      "outputs": [],
      "source": [
        "# Get weekly data\n",
        "pbp_data_weekly = nfl.import_weekly_data([2024], downcast=True)\n",
        "\n",
        "\n",
        "current_week = pbp_data_weekly[pbp_data_weekly['season_type'] == game_type]['week'].max()\n",
        "print(\"Current week in \" + game_type + \" season:\", current_week)"
      ]
    },
    {
      "cell_type": "markdown",
      "metadata": {
        "id": "rSOg1TY9kKvi"
      },
      "source": [
        "TEAM PLAY DATA LAST 2-3 YEARS"
      ]
    },
    {
      "cell_type": "code",
      "execution_count": null,
      "metadata": {
        "id": "jDgQ43icgoo4"
      },
      "outputs": [],
      "source": [
        "# Filter play-by-play data for the player, opponent team, and current season\n",
        "player_vs_oppo_stats = pbp_data[\n",
        "    (pbp_data[column] == abbr_player_name) &           # Filter by the correct player column\n",
        "    (pbp_data['defteam'] == oppo_team.upper()) &\n",
        "    (pbp_data['season_type'] == game_type)\n",
        "    # Filter by opponent team\n",
        "]\n",
        "\n",
        "#check_name(player_name, player_vs_oppo_stats)\n",
        "if player_vs_oppo_stats.empty:\n",
        "   if get_current_week(game_type, current_year) < 4:\n",
        "      print(f\"\\033[1;31mNo data found for player {abbr_player_name} against team {oppo_team.upper()} in {game_type} between 2021-2023.\\n Getting last season data.\\033[0m\")\n",
        "      avg_yards_vs_opp = opp_team_stats(oppo_team, last_year, column)\n",
        "   else:\n",
        "      print(f\"\\033[1;31mNo data found for player {abbr_player_name} against team {oppo_team.upper()} in {game_type} between 2021-2023. \\n Getting current season data.\\033[0m\")\n",
        "      avg_yards_vs_opp = opp_team_stats(oppo_team, current_year, player_team, column)\n",
        "\n",
        "else:\n",
        "  if column == 'passer':\n",
        "      avg_yards_vs_opp = player_stats_summary(player_vs_oppo_stats, qb_values, qb_groupby_values, column)\n",
        "  if column == 'rusher':\n",
        "      avg_yards_vs_opp = player_stats_summary(player_vs_oppo_stats, rb_values, rb_groupby_values, column)\n",
        "  if column == 'receiver':\n",
        "      avg_yards_vs_opp = player_stats_summary(player_vs_oppo_stats, wr_values, wr_groupby_values, column)\n",
        "\n"
      ]
    },
    {
      "cell_type": "markdown",
      "metadata": {
        "id": "7APuRVlfrbPx"
      },
      "source": [
        "**PLAYER CURRENT SEASON STATS**"
      ]
    },
    {
      "cell_type": "code",
      "execution_count": null,
      "metadata": {
        "id": "CMGMxIgRgtmr"
      },
      "outputs": [],
      "source": [
        "pbp_data_seasonal = nfl.import_seasonal_data([current_year], 'REG')\n",
        "player_current_season_stats = pbp_data_seasonal[\n",
        "    (pbp_data_seasonal['player_id'] == player_info(player_name)) &\n",
        "    (pbp_data_seasonal['season_type'] == game_type)\n",
        "]      #Filter by season game type\n",
        "\n",
        "if column == 'passer':\n",
        "  avg_yards_cur = player_stats_summary(player_current_season_stats, qb_values_current, qb_groupby_current_values, column, 'current', player_name)\n",
        "if column == 'rusher':\n",
        "  avg_yards_cur = player_stats_summary(player_current_season_stats, rb_values_current, rb_groupby_current_values, column, 'current', player_name)\n",
        "if column == 'receiver':\n",
        "  avg_yards_cur = player_stats_summary(player_current_season_stats, wr_values_current, wr_groupby_current_values, column, 'current', player_name)\n"
      ]
    },
    {
      "cell_type": "markdown",
      "metadata": {
        "id": "NrcVyj_7rg96"
      },
      "source": [
        "**PLAYER LAST SEASON STATS**"
      ]
    },
    {
      "cell_type": "code",
      "execution_count": null,
      "metadata": {
        "id": "2T8OFOuSif0J"
      },
      "outputs": [],
      "source": [
        "player_last_season_stats = pbp_data[\n",
        "    (pbp_data[column] == abbr_player_name) &           # Filter by the correct player column # Filter by opponent team\n",
        "    (pbp_data['season'] == last_year)&\n",
        "     (pbp_data['season_type'] == game_type)     # Filter by current season\n",
        "]\n",
        "'''if player_last_season_stats.empty:\n",
        "    print(f\"\\033[1;31mNo data found for player {abbr_player_name} against team in {game_type} the {last_ year} season.\\033[0m\")'''\n",
        "if column == 'passer':\n",
        "    avg_yards_last = player_stats_summary(player_last_season_stats, qb_values, qb_groupby_values, column)\n",
        "elif column == 'rusher':\n",
        "    avg_yards_last = player_stats_summary(player_last_season_stats, rb_values, rb_groupby_values, column)\n",
        "else:\n",
        "    avg_yards_last = player_stats_summary(player_last_season_stats, wr_values, wr_groupby_values, column)\n"
      ]
    },
    {
      "cell_type": "markdown",
      "metadata": {
        "id": "xJ2MHRLWKhMP"
      },
      "source": [
        "**GET NUMBER OF GAMES PLAYER PLAYED CURRENT SEASON**"
      ]
    },
    {
      "cell_type": "code",
      "execution_count": null,
      "metadata": {
        "id": "ewvDU92mKeY5"
      },
      "outputs": [],
      "source": [
        "current_games = player_current_season_stats['games'].sum()\n",
        "print(f\"game played current season: {current_games}.\")"
      ]
    },
    {
      "cell_type": "markdown",
      "metadata": {
        "id": "-ba5cNChrmvM"
      },
      "source": [
        "**CALCULATIONS FOR FORMULA**"
      ]
    },
    {
      "cell_type": "code",
      "execution_count": null,
      "metadata": {
        "id": "AwGu7sjEqUi2"
      },
      "outputs": [],
      "source": [
        "def final_calc(current, last, team_played):\n",
        "  return (current * current_severity +\n",
        "          last * last_severity +\n",
        "          team_played * team_played_severity)"
      ]
    },
    {
      "cell_type": "code",
      "execution_count": null,
      "metadata": {
        "id": "tXHh3ku7rttq"
      },
      "outputs": [],
      "source": [
        "# Calculate all percentages for each severity\n",
        "percentage_tweaker = 1.1765\n",
        "current_severity = 0.2 + (current_games * percentage_tweaker)/100\n",
        "last_severity = 0.4 - (current_games * percentage_tweaker)/100\n",
        "if swap_percentage is True:\n",
        "  team_played_severity = current_severity\n",
        "  current_severity = 0.4\n",
        "else:\n",
        "  team_played_severity = 0.4\n",
        "# RB alterations\n",
        "if column == \"rusher\":\n",
        "    current_severity = 0.8\n",
        "    last_severity = 0.1\n",
        "    team_played_severity = 0.1\n",
        "    if swap_percentage is True:\n",
        "      current_severity = 0.9\n",
        "      last_severity = 0.1\n",
        "      team_played_severity = 0\n",
        "\n",
        "# Check if player is dual-threat qb(running qb)\n",
        "check_rush_yards = final_calc(average_calc(player_current_season_stats, 'current', 'rushing') ,\n",
        "                              average_calc(player_last_season_stats, None, 'rushing'),\n",
        "                              average_calc(player_vs_oppo_stats, None, 'rushing')  )\n",
        "final_calculated_projection = final_calc(avg_yards_cur,  avg_yards_last, avg_yards_vs_opp )\n",
        "if column == \"rusher\":\n",
        "  print(f\"\\033[1;32m\\n\\nFINAL CALCULATED PROJECTION OF RUSH YARDS: {round(check_rush_yards, 2)}\\033[0m\\n\\n\")\n",
        "if column == \"passer\":\n",
        "  print(f\"\\033[1;32m\\n\\nFINAL CALCULATED PROJECTION OF PASS YARDS: {round(final_calculated_projection, 2)}\\033[0m\\n\\n\")\n",
        "\n",
        "if column == \"receiver\":\n",
        "    print(f\"\\033[1;32m\\n\\nFINAL CALCULATED PROJECTION OF RECEIVING YARDS: {round(final_calculated_projection, 2)}\\033[0m\\n\\n\")\n",
        "\n",
        "\n",
        "if check_rush_yards>= 40.99:\n",
        "  final_calculated_projection = final_calc(avg_yards_cur,  avg_yards_last, avg_yards_vs_opp ) + check_rush_yards\n",
        "  print(f\"\\033[1;32m\\n\\nFINAL CALCULATED PROJECTION OF PASS YARDS WITH ADDED RUSH YARDS: {round(final_calculated_projection, 2)}\\033[0m\\n\\n\")\n",
        "\n"
      ]
    },
    {
      "cell_type": "code",
      "execution_count": null,
      "metadata": {
        "id": "upOjNv-uOsba"
      },
      "outputs": [],
      "source": [
        "#inspired by Nick Wan on Youtube"
      ]
    }
  ],
  "metadata": {
    "colab": {
      "provenance": [],
      "authorship_tag": "ABX9TyOiQEXpNR+ojG4xL9VxcShm",
      "include_colab_link": true
    },
    "kernelspec": {
      "display_name": "Python 3",
      "name": "python3"
    },
    "language_info": {
      "name": "python"
    }
  },
  "nbformat": 4,
  "nbformat_minor": 0
}