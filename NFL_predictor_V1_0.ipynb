{
  "nbformat": 4,
  "nbformat_minor": 0,
  "metadata": {
    "colab": {
      "provenance": [],
      "toc_visible": true,
      "authorship_tag": "ABX9TyMUiuDQ49k6XBMOzZLjXnH0",
      "include_colab_link": true
    },
    "kernelspec": {
      "name": "python3",
      "display_name": "Python 3"
    },
    "language_info": {
      "name": "python"
    }
  },
  "cells": [
    {
      "cell_type": "markdown",
      "metadata": {
        "id": "view-in-github",
        "colab_type": "text"
      },
      "source": [
        "<a href=\"https://colab.research.google.com/github/zzzsheep/NFL-Predictor-/blob/main/NFL_predictor_V1_0.ipynb\" target=\"_parent\"><img src=\"https://colab.research.google.com/assets/colab-badge.svg\" alt=\"Open In Colab\"/></a>"
      ]
    },
    {
      "cell_type": "code",
      "source": [
        "import numpy as np\n",
        "import pandas as pd"
      ],
      "metadata": {
        "id": "HGWZMhGoJkI3"
      },
      "execution_count": 1,
      "outputs": []
    },
    {
      "cell_type": "code",
      "source": [
        "#Install Packages\n",
        "!pip install nfl_data_py\n",
        "!pip install pandas\n",
        "!pip install os\n",
        "!pip install matplotlib\n"
      ],
      "metadata": {
        "collapsed": true,
        "id": "59st27bslEiO",
        "colab": {
          "base_uri": "https://localhost:8080/"
        },
        "outputId": "de394134-0fe9-47c5-f3e8-98b1c9ed3977"
      },
      "execution_count": 2,
      "outputs": [
        {
          "output_type": "stream",
          "name": "stdout",
          "text": [
            "Collecting nfl_data_py\n",
            "  Downloading nfl_data_py-0.3.2-py3-none-any.whl.metadata (11 kB)\n",
            "Requirement already satisfied: pandas>1 in /usr/local/lib/python3.10/dist-packages (from nfl_data_py) (2.1.4)\n",
            "Collecting appdirs>1 (from nfl_data_py)\n",
            "  Downloading appdirs-1.4.4-py2.py3-none-any.whl.metadata (9.0 kB)\n",
            "Collecting fastparquet>0.5 (from nfl_data_py)\n",
            "  Downloading fastparquet-2024.5.0-cp310-cp310-manylinux_2_17_x86_64.manylinux2014_x86_64.whl.metadata (4.1 kB)\n",
            "Requirement already satisfied: numpy in /usr/local/lib/python3.10/dist-packages (from fastparquet>0.5->nfl_data_py) (1.26.4)\n",
            "Collecting cramjam>=2.3 (from fastparquet>0.5->nfl_data_py)\n",
            "  Downloading cramjam-2.8.3-cp310-cp310-manylinux_2_17_x86_64.manylinux2014_x86_64.whl.metadata (4.2 kB)\n",
            "Requirement already satisfied: fsspec in /usr/local/lib/python3.10/dist-packages (from fastparquet>0.5->nfl_data_py) (2024.6.1)\n",
            "Requirement already satisfied: packaging in /usr/local/lib/python3.10/dist-packages (from fastparquet>0.5->nfl_data_py) (24.1)\n",
            "Requirement already satisfied: python-dateutil>=2.8.2 in /usr/local/lib/python3.10/dist-packages (from pandas>1->nfl_data_py) (2.8.2)\n",
            "Requirement already satisfied: pytz>=2020.1 in /usr/local/lib/python3.10/dist-packages (from pandas>1->nfl_data_py) (2024.2)\n",
            "Requirement already satisfied: tzdata>=2022.1 in /usr/local/lib/python3.10/dist-packages (from pandas>1->nfl_data_py) (2024.1)\n",
            "Requirement already satisfied: six>=1.5 in /usr/local/lib/python3.10/dist-packages (from python-dateutil>=2.8.2->pandas>1->nfl_data_py) (1.16.0)\n",
            "Downloading nfl_data_py-0.3.2-py3-none-any.whl (13 kB)\n",
            "Downloading appdirs-1.4.4-py2.py3-none-any.whl (9.6 kB)\n",
            "Downloading fastparquet-2024.5.0-cp310-cp310-manylinux_2_17_x86_64.manylinux2014_x86_64.whl (1.7 MB)\n",
            "\u001b[2K   \u001b[90m━━━━━━━━━━━━━━━━━━━━━━━━━━━━━━━━━━━━━━━━\u001b[0m \u001b[32m1.7/1.7 MB\u001b[0m \u001b[31m14.0 MB/s\u001b[0m eta \u001b[36m0:00:00\u001b[0m\n",
            "\u001b[?25hDownloading cramjam-2.8.3-cp310-cp310-manylinux_2_17_x86_64.manylinux2014_x86_64.whl (2.0 MB)\n",
            "\u001b[2K   \u001b[90m━━━━━━━━━━━━━━━━━━━━━━━━━━━━━━━━━━━━━━━━\u001b[0m \u001b[32m2.0/2.0 MB\u001b[0m \u001b[31m23.3 MB/s\u001b[0m eta \u001b[36m0:00:00\u001b[0m\n",
            "\u001b[?25hInstalling collected packages: appdirs, cramjam, fastparquet, nfl_data_py\n",
            "Successfully installed appdirs-1.4.4 cramjam-2.8.3 fastparquet-2024.5.0 nfl_data_py-0.3.2\n",
            "Requirement already satisfied: pandas in /usr/local/lib/python3.10/dist-packages (2.1.4)\n",
            "Requirement already satisfied: numpy<2,>=1.22.4 in /usr/local/lib/python3.10/dist-packages (from pandas) (1.26.4)\n",
            "Requirement already satisfied: python-dateutil>=2.8.2 in /usr/local/lib/python3.10/dist-packages (from pandas) (2.8.2)\n",
            "Requirement already satisfied: pytz>=2020.1 in /usr/local/lib/python3.10/dist-packages (from pandas) (2024.2)\n",
            "Requirement already satisfied: tzdata>=2022.1 in /usr/local/lib/python3.10/dist-packages (from pandas) (2024.1)\n",
            "Requirement already satisfied: six>=1.5 in /usr/local/lib/python3.10/dist-packages (from python-dateutil>=2.8.2->pandas) (1.16.0)\n",
            "\u001b[31mERROR: Could not find a version that satisfies the requirement os (from versions: none)\u001b[0m\u001b[31m\n",
            "\u001b[0m\u001b[31mERROR: No matching distribution found for os\u001b[0m\u001b[31m\n",
            "\u001b[0mRequirement already satisfied: matplotlib in /usr/local/lib/python3.10/dist-packages (3.7.1)\n",
            "Requirement already satisfied: contourpy>=1.0.1 in /usr/local/lib/python3.10/dist-packages (from matplotlib) (1.3.0)\n",
            "Requirement already satisfied: cycler>=0.10 in /usr/local/lib/python3.10/dist-packages (from matplotlib) (0.12.1)\n",
            "Requirement already satisfied: fonttools>=4.22.0 in /usr/local/lib/python3.10/dist-packages (from matplotlib) (4.53.1)\n",
            "Requirement already satisfied: kiwisolver>=1.0.1 in /usr/local/lib/python3.10/dist-packages (from matplotlib) (1.4.7)\n",
            "Requirement already satisfied: numpy>=1.20 in /usr/local/lib/python3.10/dist-packages (from matplotlib) (1.26.4)\n",
            "Requirement already satisfied: packaging>=20.0 in /usr/local/lib/python3.10/dist-packages (from matplotlib) (24.1)\n",
            "Requirement already satisfied: pillow>=6.2.0 in /usr/local/lib/python3.10/dist-packages (from matplotlib) (10.4.0)\n",
            "Requirement already satisfied: pyparsing>=2.3.1 in /usr/local/lib/python3.10/dist-packages (from matplotlib) (3.1.4)\n",
            "Requirement already satisfied: python-dateutil>=2.7 in /usr/local/lib/python3.10/dist-packages (from matplotlib) (2.8.2)\n",
            "Requirement already satisfied: six>=1.5 in /usr/local/lib/python3.10/dist-packages (from python-dateutil>=2.7->matplotlib) (1.16.0)\n"
          ]
        }
      ]
    },
    {
      "cell_type": "code",
      "source": [
        "import nfl_data_py as nfl\n",
        "import pandas as pd\n",
        "import os\n",
        "import urllib.request\n",
        "import matplotlib.pyplot as plt"
      ],
      "metadata": {
        "id": "VNOlm5d2lcO-"
      },
      "execution_count": 3,
      "outputs": []
    },
    {
      "cell_type": "markdown",
      "source": [
        "**Imports play-by-play data**"
      ],
      "metadata": {
        "id": "Qc_yNpBftKoJ"
      }
    },
    {
      "cell_type": "code",
      "source": [
        "pbp_data = nfl.import_pbp_data([2021, 2022, 2023], downcast=True)"
      ],
      "metadata": {
        "colab": {
          "base_uri": "https://localhost:8080/"
        },
        "id": "FnQXc7OVtKY9",
        "outputId": "7596efa6-2d22-458b-fe2f-be03d47da6e0"
      },
      "execution_count": 4,
      "outputs": [
        {
          "output_type": "stream",
          "name": "stdout",
          "text": [
            "2021 done.\n",
            "2022 done.\n",
            "2023 done.\n",
            "Downcasting floats.\n"
          ]
        }
      ]
    },
    {
      "cell_type": "markdown",
      "source": [
        "**ALL functions used**"
      ],
      "metadata": {
        "id": "L_O0vgacq5ud"
      }
    },
    {
      "cell_type": "code",
      "source": [
        "# Converts player name to match abbreviation name in dataset\n",
        "def parse_name(player_name):\n",
        "  parts = player_name.split()\n",
        "  if len(parts) < 2:\n",
        "    raise ValueError(\"No valid first or last name\")\n",
        "  first_init = parts[0][0]\n",
        "  last_name = ' '.join(parts[1:])\n",
        "  abbr_name = first_init + '.' + last_name\n",
        "  return abbr_name\n",
        "\n",
        "# Determine the correct column to filter based on the player’s position\n",
        "def player_pos(position):\n",
        "  if position == 'qb':\n",
        "      return 'passer'\n",
        "  elif position == 'rusher':\n",
        "      return 'rusher'\n",
        "  elif position == 'receiver':\n",
        "      return'receiver'\n",
        "  else:\n",
        "      raise ValueError(\"Invalid position entered! Choose from passer, rusher, or receiver.\")\n",
        "\n",
        "# Calculates the average total yards per game\n",
        "def average_calc(player_season, data_types=None):\n",
        "  if data_types == 'current':\n",
        "      total_games = player_season['games'].sum()\n",
        "  else:\n",
        "      total_games = player_season['game_id'].nunique()\n",
        "  total_yards = player_season['passing_yards'].sum()\n",
        "\n",
        "  print(\"total games played: \" , total_games)\n",
        "  print(\"total passing yards: \", total_yards)\n",
        "  if total_games > 0:\n",
        "    return round(total_yards / total_games, 2)   # Calculate average with total games and yards\n",
        "  else:\n",
        "    return 0  # Handle case where no games are played\n",
        "\n",
        "# Displays data from player, has parameter for which season\n",
        "def player_stats_summary(player_season):\n",
        "  player_stats_summary = player_season.agg({\n",
        "    'passing_yards': 'sum',\n",
        "    'pass_touchdown': 'sum',\n",
        "    'interception': 'sum'\n",
        "\n",
        "})\n",
        "  print(player_stats_summary)\n",
        "\n",
        "# Gets player's player id by using roster import\n",
        "def player_info(player_name):\n",
        "  rosters = nfl.import_seasonal_rosters([2024], ['player_id', 'player_name', 'week'])\n",
        "  player_info = rosters[rosters['player_name'].str.contains(player_name, case=False, na=False)]\n",
        "  if not player_info.empty:\n",
        "    player_id = player_info['player_id'].iloc[0]\n",
        "    return player_id\n",
        "  else:\n",
        "    raise ValueError(\"player_id not found\")\n",
        "\n",
        "#pbp_data.columns.values.     <--shows all variables\n",
        "#pbp_data.head(10)\n"
      ],
      "metadata": {
        "id": "dXJwXaOzldK1"
      },
      "execution_count": 14,
      "outputs": []
    },
    {
      "cell_type": "markdown",
      "source": [
        "**INPUT FROM USER**"
      ],
      "metadata": {
        "id": "IVEqZ1hKrOkC"
      }
    },
    {
      "cell_type": "code",
      "source": [
        "test = False\n",
        "\n",
        "if test:\n",
        "  player_name = \"Brock Purdy\"\n",
        "  abbr_player_name = \"B.Purdy\"\n",
        "  oppo_team = \"SEA\"\n",
        "  current_year = 2024\n",
        "  last_year = current_year - 1\n",
        "  column = player_pos('qb')\n",
        "  game_type = \"REG\"\n",
        "else:\n",
        "  player_name = input(\"input of player name: \")\n",
        "  abbr_player_name = parse_name(player_name)\n",
        "  oppo_team = input(\"opposing team abbr: \")\n",
        "  current_year = int(input(\"current season: \"))\n",
        "  column = player_pos(input(\"Enter player position (qb, rusher, receiver): \").strip().lower() )  # Ask for player position to decide which column to filter\n",
        "  last_year = current_year - 1\n",
        "  game_type = input(\"Choose which game type: (ALL, REG, POST) \")\n",
        "\n",
        "\n",
        "#rint(player_current_season_stats.head())\n",
        "# Display the filtered player's current season stats against the opponent\n",
        "#print(player_current_season_stats.head())\n"
      ],
      "metadata": {
        "id": "4oOOsNPWdeZb",
        "colab": {
          "base_uri": "https://localhost:8080/"
        },
        "outputId": "f4e45afc-889b-4d5e-ea4a-07145bfb9b1e"
      },
      "execution_count": 15,
      "outputs": [
        {
          "name": "stdout",
          "output_type": "stream",
          "text": [
            "input of player name: Lamar Jackson\n",
            "opposing team abbr: DAL\n",
            "current season: 2024\n",
            "Enter player position (qb, rusher, receiver): qb\n",
            "Choose which game type: (ALL, REG, POST) REG\n"
          ]
        }
      ]
    },
    {
      "cell_type": "markdown",
      "source": [
        "TEAM PLAY DATA LAST 2-3 YEARS"
      ],
      "metadata": {
        "id": "rSOg1TY9kKvi"
      }
    },
    {
      "cell_type": "code",
      "source": [
        "# Filter play-by-play data for the player, opponent team, and current season\n",
        "player_vs_oppo_stats = pbp_data[\n",
        "    (pbp_data[column] == abbr_player_name) &           # Filter by the correct player column\n",
        "    (pbp_data['defteam'] == oppo_team.upper()) &\n",
        "    (pbp_data['season_type'] == game_type)  # Filter by opponent team\n",
        "]\n",
        "avg_passing_yards_vs_opp = average_calc(player_vs_oppo_stats)\n",
        "print(\"average passing yards vs OPP: \", avg_passing_yards_vs_opp)"
      ],
      "metadata": {
        "colab": {
          "base_uri": "https://localhost:8080/"
        },
        "id": "jDgQ43icgoo4",
        "outputId": "d07ce2a2-9229-4798-9672-de1f16ce2b96"
      },
      "execution_count": 16,
      "outputs": [
        {
          "output_type": "stream",
          "name": "stdout",
          "text": [
            "total games played:  0\n",
            "total passing yards:  0.0\n",
            "average passing yards vs OPP:  0\n"
          ]
        }
      ]
    },
    {
      "cell_type": "markdown",
      "source": [
        "**PLAYER CURRENT SEASON STATS**"
      ],
      "metadata": {
        "id": "7APuRVlfrbPx"
      }
    },
    {
      "cell_type": "code",
      "source": [
        "pbp_data_seasonal = nfl.import_seasonal_data([current_year], 'REG')\n",
        "player_current_season_stats = pbp_data_seasonal[\n",
        "    (pbp_data_seasonal['player_id'] == player_info(player_name) ) &\n",
        "    (pbp_data_seasonal['season_type'] == game_type)\n",
        "]      #Filter by season game type\n",
        "\n",
        "avg_passing_yard_cur = average_calc(player_current_season_stats, 'current')\n",
        "print(avg_passing_yard_cur)\n"
      ],
      "metadata": {
        "colab": {
          "base_uri": "https://localhost:8080/"
        },
        "id": "CMGMxIgRgtmr",
        "outputId": "921b54a8-e572-417e-f0ea-0ee44521dba9"
      },
      "execution_count": 17,
      "outputs": [
        {
          "output_type": "stream",
          "name": "stdout",
          "text": [
            "total games played:  2\n",
            "total passing yards:  520.0\n",
            "260.0\n"
          ]
        }
      ]
    },
    {
      "cell_type": "markdown",
      "source": [
        "**PLAYER LAST SEASON STATS**"
      ],
      "metadata": {
        "id": "NrcVyj_7rg96"
      }
    },
    {
      "cell_type": "code",
      "source": [
        "player_last_season_stats = pbp_data[\n",
        "    (pbp_data[column] == abbr_player_name) &           # Filter by the correct player column # Filter by opponent team\n",
        "    (pbp_data['season'] == last_year)&\n",
        "     (pbp_data['season_type'] == game_type)     # Filter by current season\n",
        "]\n",
        "avg_passing_yard_last = average_calc(player_last_season_stats)\n",
        "print(avg_passing_yard_last)"
      ],
      "metadata": {
        "colab": {
          "base_uri": "https://localhost:8080/"
        },
        "id": "2T8OFOuSif0J",
        "outputId": "49a3db8c-fe68-4af1-9c41-ef7952f392f3"
      },
      "execution_count": 18,
      "outputs": [
        {
          "output_type": "stream",
          "name": "stdout",
          "text": [
            "total games played:  16\n",
            "total passing yards:  3678.0\n",
            "229.88\n"
          ]
        }
      ]
    },
    {
      "cell_type": "markdown",
      "source": [
        "**CALCULATE HOW MANY WEEKS WE ARE IN THE SEASON**"
      ],
      "metadata": {
        "id": "fixhK1OPo9jU"
      }
    },
    {
      "cell_type": "code",
      "source": [
        "# Get weekly data\n",
        "pbp_data_weekly = nfl.import_weekly_data([2024], downcast=True)\n",
        "\n",
        "\n",
        "current_week = pbp_data_weekly[pbp_data_weekly['season_type'] == game_type]['week'].max()\n",
        "print(\"Current week in \" + game_type + \" season:\", current_week)"
      ],
      "metadata": {
        "colab": {
          "base_uri": "https://localhost:8080/"
        },
        "id": "oOQw4ojquknX",
        "outputId": "f95b9497-726b-408c-fbb6-cc4d876f4a4f"
      },
      "execution_count": 11,
      "outputs": [
        {
          "output_type": "stream",
          "name": "stdout",
          "text": [
            "Downcasting floats.\n",
            "Current week in REG season: 2\n"
          ]
        }
      ]
    },
    {
      "cell_type": "markdown",
      "source": [
        "**GET NUMBER OF GAMES PLAYER PLAYED CURRENT SEASON**"
      ],
      "metadata": {
        "id": "xJ2MHRLWKhMP"
      }
    },
    {
      "cell_type": "code",
      "source": [
        "current_games = player_current_season_stats['games'].sum()"
      ],
      "metadata": {
        "id": "ewvDU92mKeY5"
      },
      "execution_count": 12,
      "outputs": []
    },
    {
      "cell_type": "markdown",
      "source": [
        "**CALCULATIONS FOR FORMULA**"
      ],
      "metadata": {
        "id": "-ba5cNChrmvM"
      }
    },
    {
      "cell_type": "code",
      "source": [
        "percentage_tweaker = 1.1765\n",
        "current_severity = 0.2 + (current_games * percentage_tweaker)/100\n",
        "last_severity = 0.4 - (current_games * percentage_tweaker)/100\n",
        "team_played_severity = 0.4\n",
        "final_calculated_projection = avg_passing_yard_cur * current_severity + avg_passing_yard_last * last_severity +  avg_passing_yards_vs_opp * team_played_severity\n",
        "print(\"final calculated projection: \", round(final_calculated_projection,2))"
      ],
      "metadata": {
        "colab": {
          "base_uri": "https://localhost:8080/"
        },
        "id": "tXHh3ku7rttq",
        "outputId": "02ad7db8-7f76-40ae-d7ff-f50a129fc3d2"
      },
      "execution_count": 13,
      "outputs": [
        {
          "output_type": "stream",
          "name": "stdout",
          "text": [
            "final calculated projection:  268.04\n"
          ]
        }
      ]
    },
    {
      "cell_type": "markdown",
      "source": [
        "**QUARTERBACK** STAT"
      ],
      "metadata": {
        "id": "v4LuYrZ0kD7F"
      }
    },
    {
      "cell_type": "code",
      "source": [
        "qb_values = ['season', 'passer_id','passer', 'pass', 'passing_yards',\n",
        "            'complete_pass', 'interception',\n",
        "            'sack', 'yards_gained', 'pass_touchdown', 'touchdown']\n",
        "\n",
        "groupby_values = ['season',  'passer_id','passer']\n",
        "\n",
        "# group by and aggregate by sum\n",
        "qb_pbp_data = (pbp_data\n",
        "         .loc[:, qb_values]\n",
        "         .groupby(groupby_values,\n",
        "                  as_index=False)\n",
        "         .sum())\n",
        "pbp_data.head(5)\n",
        "qb_pbp_data.sample(10)"
      ],
      "metadata": {
        "id": "zSZsF_abgo3r"
      },
      "execution_count": null,
      "outputs": []
    },
    {
      "cell_type": "code",
      "execution_count": null,
      "metadata": {
        "id": "CWny3rmEJh7_"
      },
      "outputs": [],
      "source": [
        "import random\n",
        "import time\n",
        "\n",
        "seasons = [str(season) for season in range (2024)]\n",
        "\n",
        "player_abbrs = []\n",
        "#create dataframe\n",
        "nfl_df = pd.DataFrame()\n",
        "\n",
        "#looping through the games\n",
        "for season in seasons:\n",
        "  for players in player_abbrs:\n",
        "    url = \"https://www.pro-football-reference.com/teams\""
      ]
    },
    {
      "cell_type": "code",
      "source": [
        "pbp_fei = nfl.import_seasonal_rosters([2024])\n",
        "\n",
        "# Load play-by-play data for the 2024 season\n",
        "pbp_data_2024 = nfl.import_weekly_data([2024], downcast=True)\n",
        "pbp_data_seasonal = nfl.import_seasonal_data([current_year], 'ALL')\n",
        "print(pbp_data_seasonal.columns)\n",
        "print(pbp_data_seasonal.sample(10))\n",
        "# Check the first few rows to confirm you're getting 2024 season data\n",
        "player_stats_summary(pbp_fei)\n",
        "pbp_data_REG = nfl.import_seasonal_data([2024], 'REG')\n",
        "#print(pbp_data_REG.head())"
      ],
      "metadata": {
        "id": "BvkjVBjZ3QRQ"
      },
      "execution_count": null,
      "outputs": []
    }
  ]
}