{
  "cells": [
    {
      "cell_type": "markdown",
      "metadata": {
        "id": "view-in-github",
        "colab_type": "text"
      },
      "source": [
        "<a href=\"https://colab.research.google.com/github/zzzsheep/NFL-Predictor-/blob/main/NFL_predictor_V1_0.ipynb\" target=\"_parent\"><img src=\"https://colab.research.google.com/assets/colab-badge.svg\" alt=\"Open In Colab\"/></a>"
      ]
    },
    {
      "cell_type": "code",
      "execution_count": null,
      "metadata": {
        "colab": {
          "background_save": true,
          "base_uri": "https://localhost:8080/"
        },
        "collapsed": true,
        "id": "59st27bslEiO",
        "outputId": "7cc8585a-6127-4149-c5a7-b3f82fa9672a"
      },
      "outputs": [
        {
          "name": "stdout",
          "output_type": "stream",
          "text": [
            "Collecting nfl_data_py\n",
            "  Downloading nfl_data_py-0.3.3-py3-none-any.whl.metadata (12 kB)\n",
            "Requirement already satisfied: numpy<2.0,>=1.0 in /usr/local/lib/python3.10/dist-packages (from nfl_data_py) (1.26.4)\n",
            "Collecting pandas<2.0,>=1.0 (from nfl_data_py)\n",
            "  Downloading pandas-1.5.3-cp310-cp310-manylinux_2_17_x86_64.manylinux2014_x86_64.whl.metadata (11 kB)\n",
            "Collecting appdirs>1 (from nfl_data_py)\n",
            "  Downloading appdirs-1.4.4-py2.py3-none-any.whl.metadata (9.0 kB)\n",
            "Collecting fastparquet>0.5 (from nfl_data_py)\n",
            "  Downloading fastparquet-2024.5.0-cp310-cp310-manylinux_2_17_x86_64.manylinux2014_x86_64.whl.metadata (4.1 kB)\n",
            "Collecting cramjam>=2.3 (from fastparquet>0.5->nfl_data_py)\n",
            "  Downloading cramjam-2.8.4-cp310-cp310-manylinux_2_17_x86_64.manylinux2014_x86_64.whl.metadata (4.6 kB)\n",
            "Requirement already satisfied: fsspec in /usr/local/lib/python3.10/dist-packages (from fastparquet>0.5->nfl_data_py) (2024.6.1)\n",
            "Requirement already satisfied: packaging in /usr/local/lib/python3.10/dist-packages (from fastparquet>0.5->nfl_data_py) (24.1)\n",
            "Requirement already satisfied: python-dateutil>=2.8.1 in /usr/local/lib/python3.10/dist-packages (from pandas<2.0,>=1.0->nfl_data_py) (2.8.2)\n",
            "Requirement already satisfied: pytz>=2020.1 in /usr/local/lib/python3.10/dist-packages (from pandas<2.0,>=1.0->nfl_data_py) (2024.2)\n",
            "Requirement already satisfied: six>=1.5 in /usr/local/lib/python3.10/dist-packages (from python-dateutil>=2.8.1->pandas<2.0,>=1.0->nfl_data_py) (1.16.0)\n",
            "Downloading nfl_data_py-0.3.3-py3-none-any.whl (13 kB)\n",
            "Downloading appdirs-1.4.4-py2.py3-none-any.whl (9.6 kB)\n",
            "Downloading fastparquet-2024.5.0-cp310-cp310-manylinux_2_17_x86_64.manylinux2014_x86_64.whl (1.7 MB)\n",
            "\u001b[2K   \u001b[90m━━━━━━━━━━━━━━━━━━━━━━━━━━━━━━━━━━━━━━━━\u001b[0m \u001b[32m1.7/1.7 MB\u001b[0m \u001b[31m16.9 MB/s\u001b[0m eta \u001b[36m0:00:00\u001b[0m\n",
            "\u001b[?25hDownloading pandas-1.5.3-cp310-cp310-manylinux_2_17_x86_64.manylinux2014_x86_64.whl (12.1 MB)\n",
            "\u001b[2K   \u001b[90m━━━━━━━━━━━━━━━━━━━━━━━━━━━━━━━━━━━━━━━━\u001b[0m \u001b[32m12.1/12.1 MB\u001b[0m \u001b[31m51.7 MB/s\u001b[0m eta \u001b[36m0:00:00\u001b[0m\n",
            "\u001b[?25hDownloading cramjam-2.8.4-cp310-cp310-manylinux_2_17_x86_64.manylinux2014_x86_64.whl (2.3 MB)\n",
            "\u001b[2K   \u001b[90m━━━━━━━━━━━━━━━━━━━━━━━━━━━━━━━━━━━━━━━━\u001b[0m \u001b[32m2.3/2.3 MB\u001b[0m \u001b[31m40.5 MB/s\u001b[0m eta \u001b[36m0:00:00\u001b[0m\n",
            "\u001b[?25hInstalling collected packages: appdirs, cramjam, pandas, fastparquet, nfl_data_py\n",
            "  Attempting uninstall: pandas\n",
            "    Found existing installation: pandas 2.2.2\n",
            "    Uninstalling pandas-2.2.2:\n",
            "      Successfully uninstalled pandas-2.2.2\n",
            "\u001b[31mERROR: pip's dependency resolver does not currently take into account all the packages that are installed. This behaviour is the source of the following dependency conflicts.\n",
            "cudf-cu12 24.6.1 requires pandas<2.2.3dev0,>=2.0, but you have pandas 1.5.3 which is incompatible.\n",
            "google-colab 1.0.0 requires pandas==2.2.2, but you have pandas 1.5.3 which is incompatible.\n",
            "mizani 0.11.4 requires pandas>=2.1.0, but you have pandas 1.5.3 which is incompatible.\n",
            "plotnine 0.13.6 requires pandas<3.0.0,>=2.1.0, but you have pandas 1.5.3 which is incompatible.\n",
            "xarray 2024.9.0 requires pandas>=2.1, but you have pandas 1.5.3 which is incompatible.\u001b[0m\u001b[31m\n",
            "\u001b[0mSuccessfully installed appdirs-1.4.4 cramjam-2.8.4 fastparquet-2024.5.0 nfl_data_py-0.3.3 pandas-1.5.3\n",
            "Requirement already satisfied: pandas in /usr/local/lib/python3.10/dist-packages (1.5.3)\n",
            "Requirement already satisfied: python-dateutil>=2.8.1 in /usr/local/lib/python3.10/dist-packages (from pandas) (2.8.2)\n",
            "Requirement already satisfied: pytz>=2020.1 in /usr/local/lib/python3.10/dist-packages (from pandas) (2024.2)\n",
            "Requirement already satisfied: numpy>=1.21.0 in /usr/local/lib/python3.10/dist-packages (from pandas) (1.26.4)\n",
            "Requirement already satisfied: six>=1.5 in /usr/local/lib/python3.10/dist-packages (from python-dateutil>=2.8.1->pandas) (1.16.0)\n",
            "\u001b[31mERROR: Could not find a version that satisfies the requirement os (from versions: none)\u001b[0m\u001b[31m\n",
            "\u001b[0m\u001b[31mERROR: No matching distribution found for os\u001b[0m\u001b[31m\n",
            "\u001b[0mRequirement already satisfied: matplotlib in /usr/local/lib/python3.10/dist-packages (3.7.1)\n",
            "Requirement already satisfied: contourpy>=1.0.1 in /usr/local/lib/python3.10/dist-packages (from matplotlib) (1.3.0)\n",
            "Requirement already satisfied: cycler>=0.10 in /usr/local/lib/python3.10/dist-packages (from matplotlib) (0.12.1)\n",
            "Requirement already satisfied: fonttools>=4.22.0 in /usr/local/lib/python3.10/dist-packages (from matplotlib) (4.54.1)\n",
            "Requirement already satisfied: kiwisolver>=1.0.1 in /usr/local/lib/python3.10/dist-packages (from matplotlib) (1.4.7)\n",
            "Requirement already satisfied: numpy>=1.20 in /usr/local/lib/python3.10/dist-packages (from matplotlib) (1.26.4)\n",
            "Requirement already satisfied: packaging>=20.0 in /usr/local/lib/python3.10/dist-packages (from matplotlib) (24.1)\n",
            "Requirement already satisfied: pillow>=6.2.0 in /usr/local/lib/python3.10/dist-packages (from matplotlib) (10.4.0)\n",
            "Requirement already satisfied: pyparsing>=2.3.1 in /usr/local/lib/python3.10/dist-packages (from matplotlib) (3.1.4)\n",
            "Requirement already satisfied: python-dateutil>=2.7 in /usr/local/lib/python3.10/dist-packages (from matplotlib) (2.8.2)\n",
            "Requirement already satisfied: six>=1.5 in /usr/local/lib/python3.10/dist-packages (from python-dateutil>=2.7->matplotlib) (1.16.0)\n"
          ]
        }
      ],
      "source": [
        "#Install Packages\n",
        "!pip install nfl_data_py\n",
        "!pip install pandas\n",
        "!pip install os\n",
        "!pip install matplotlib\n"
      ]
    },
    {
      "cell_type": "code",
      "execution_count": null,
      "metadata": {
        "id": "VNOlm5d2lcO-"
      },
      "outputs": [],
      "source": [
        "import nfl_data_py as nfl\n",
        "import pandas as pd\n",
        "import os\n",
        "import urllib.request\n",
        "import matplotlib.pyplot as plt"
      ]
    },
    {
      "cell_type": "markdown",
      "metadata": {
        "id": "Qc_yNpBftKoJ"
      },
      "source": [
        "**Imports play-by-play data**"
      ]
    },
    {
      "cell_type": "code",
      "execution_count": null,
      "metadata": {
        "colab": {
          "base_uri": "https://localhost:8080/"
        },
        "id": "FnQXc7OVtKY9",
        "outputId": "70d53b92-8230-4c64-c3e4-a649c245bff4"
      },
      "outputs": [
        {
          "name": "stdout",
          "output_type": "stream",
          "text": [
            "2021 done.\n",
            "2022 done.\n",
            "2023 done.\n",
            "2024 done.\n",
            "Downcasting floats.\n"
          ]
        }
      ],
      "source": [
        "pbp_data = nfl.import_pbp_data([2021, 2022, 2023, 2024], downcast=True)\n",
        "#df_passing = pd.read_csv('nfl_team_stats_2024.csv')\n",
        "#df_rushing = pd.read_csv('nfl_team_rushing_stats_2024.csv')"
      ]
    },
    {
      "cell_type": "markdown",
      "metadata": {
        "id": "L_O0vgacq5ud"
      },
      "source": [
        "**ALL functions used**"
      ]
    },
    {
      "cell_type": "code",
      "execution_count": null,
      "metadata": {
        "id": "dXJwXaOzldK1"
      },
      "outputs": [],
      "source": [
        "# Converts player name to match abbreviation name in dataset\n",
        "def parse_name(player_name):\n",
        "  parts = player_name.split()\n",
        "  if len(parts) < 2:\n",
        "    raise ValueError(\"No valid first or last name\")\n",
        "  first_init = parts[0][0]\n",
        "  last_name = ' '.join(parts[1:])\n",
        "  abbr_name = first_init + '.' + last_name\n",
        "  return abbr_name\n",
        "\n",
        "# NOt complete\n",
        "def check_name(player, player_data):\n",
        "    player_info = player_data['receiver_id'].iloc[0]\n",
        "    print(player_info)\n",
        "\n",
        "    if not player_info.empty:\n",
        "      name = player_info['player_name'].iloc[0]\n",
        "      print(name)\n",
        "    else:\n",
        "      raise ValueError(\"player_id not found\")\n",
        "\n",
        "\n",
        "# Determine the correct column to filter based on the player’s position\n",
        "def player_pos(position):\n",
        "  if position == 'qb':\n",
        "      return 'passer'\n",
        "  elif position == 'rb':\n",
        "      return 'rusher'\n",
        "  elif position == 'wr':\n",
        "      return'receiver'\n",
        "  else:\n",
        "      raise ValueError(\"Invalid position entered! Choose from passer, rusher, or receiver.\")\n",
        "\n",
        "# Calculates the average total yards per game\n",
        "def average_calc(player_data, season=None, data_type=None):\n",
        "  if season == 'current':\n",
        "      total_games = player_data['games'].sum()\n",
        "  else:\n",
        "      total_games = player_data['game_id'].nunique()\n",
        "\n",
        "  if data_type == \"passing\":\n",
        "    total_yards = player_data['passing_yards'].sum()\n",
        "  if data_type == \"rushing\":\n",
        "    total_yards = player_data['rushing_yards'].sum()\n",
        "  if data_type == \"receiving\":\n",
        "    total_yards = player_data['receiving_yards'].sum()\n",
        "\n",
        "  if total_games > 0:\n",
        "    return round(total_yards / total_games, 2)   # Calculate average with total games and yards\n",
        "  else:\n",
        "    return 0  # Handle case where no games are played\n",
        "\n",
        "# Displays data from player, has parameter for which season\n",
        "def player_stats_summary(player_season, values, groupby, pos, data_type=None, player=None):\n",
        "\n",
        "  player_stats_summary = (player_season\n",
        "         .loc[:, values]\n",
        "         .groupby(groupby,\n",
        "                  as_index=False)\n",
        "         .sum(numeric_only=True))\n",
        "  if pos == 'passer':\n",
        "    if data_type != 'current':\n",
        "        player_stats_summary['avg passing ypg'] = average_calc(player_season, None, 'passing')\n",
        "        player_stats_summary['total_games'] = player_season['game_id'].nunique()\n",
        "        new_column_order = ['season', 'passer', 'total_games', 'avg passing ypg','pass', 'passing_yards','pass_attempt',\n",
        "                      'complete_pass', 'rushing_yards', 'sack', 'yards_gained',\n",
        "                      'pass_touchdown']\n",
        "\n",
        "    else:\n",
        "        player_stats_summary['player'] = player\n",
        "        player_stats_summary['avg passing ypg'] = average_calc(player_season, 'current', 'passing')\n",
        "        new_column_order = ['season', 'player','games',\n",
        "                            'avg passing ypg','passing_yards', 'rushing_yards',\n",
        "                            'sack_yards']\n",
        "\n",
        "    player_stats_summary = player_stats_summary[new_column_order]\n",
        "    print(player_stats_summary.to_string(index=False))\n",
        "\n",
        "    return player_stats_summary['avg passing ypg'].values[0]\n",
        "\n",
        "\n",
        "\n",
        "  if pos == 'rusher':\n",
        "    if data_type != 'current':\n",
        "      player_stats_summary['avg rushing ypg'] = average_calc(player_season, None, 'rushing')\n",
        "      player_stats_summary['total_games'] = player_season['game_id'].nunique()\n",
        "      new_column_order = ['season', 'rusher', 'total_games' , 'avg rushing ypg','rushing_yards',\n",
        "                          'rush_attempt', 'rush_touchdown', 'rush']\n",
        "\n",
        "    else:\n",
        "      player_stats_summary['player'] = player\n",
        "      player_stats_summary['avg rushing ypg'] = average_calc(player_season, 'current', 'rushing')\n",
        "      new_column_order = ['season', 'player', 'games', 'avg rushing ypg', 'rushing_yards', 'completions',\n",
        "                    'attempts', 'rushing_tds', 'receptions', 'targets', 'receiving_yards', 'carries']\n",
        "\n",
        "    player_stats_summary = player_stats_summary[new_column_order]\n",
        "    print(player_stats_summary.to_string(index=False))\n",
        "    return player_stats_summary['avg rushing ypg'].values[0]\n",
        "\n",
        "\n",
        "  if pos == 'receiver':\n",
        "    if data_type != \"current\":\n",
        "      player_stats_summary['avg receiving ypg'] = average_calc(player_season, None, 'receiving')\n",
        "      player_stats_summary['total_games'] = player_season['game_id'].nunique()\n",
        "      new_column_order = ['season', 'receiver', 'total_games', 'avg receiving ypg', 'receiving_yards',\n",
        "         'rush_attempt', 'touchdown', 'first_down']\n",
        "    else:\n",
        "      player_stats_summary['player'] = player\n",
        "      player_stats_summary['avg receiving ypg'] = average_calc(player_season, 'current', 'receiving')\n",
        "      new_column_order = ['season', 'player', 'games', 'avg receiving ypg', 'receiving_yards', 'receptions',\n",
        "                    'attempts', 'receptions', 'targets', 'receiving_yards', 'receiving_tds','receiving_first_downs', 'receiving_epa']\n",
        "    player_stats_summary = player_stats_summary[new_column_order]\n",
        "    print(player_stats_summary.to_string(index=False))\n",
        "\n",
        "    return player_stats_summary['avg receiving ypg'].values[0]\n",
        "\n",
        "\n",
        "# Gets player's player id by using roster import\n",
        "def player_info(player_name):\n",
        "  rosters = nfl.import_seasonal_rosters([2024], ['player_id', 'player_name', 'week'])\n",
        "  player_info = rosters[rosters['player_name'].str.contains(player_name, case=False, na=False)]\n",
        "\n",
        "  if not player_info.empty:\n",
        "\n",
        "    player_id = player_info['player_id'].iloc[0]\n",
        "\n",
        "    return player_id\n",
        "  else:\n",
        "    raise ValueError(\"player_id not found\")\n",
        "\n",
        "# Get Opponent team Rushing and Passing Yards per Game\n",
        "def opp_team_stats(defteam, season, yard_type=None):\n",
        "  print(\"No data found, replacing with preset data.\")\n",
        "  data = pbp_data[(pbp_data['defteam'] == defteam) &\n",
        "                  (pbp_data['season'] == season)]\n",
        "  if data.empty:\n",
        "    print(f\"Opp team did not play in the {season} season.\")\n",
        "\n",
        "  total_games = data['game_id'].nunique()\n",
        "\n",
        "  if yard_type == 'rusher':\n",
        "    avg_rushing_yds = data['rushing_yards'].sum() / total_games\n",
        "    print(f\"\\033[1;32m\\nChanged {yard_type} yards value to: {round(avg_rushing_yds, 2)}\\033[0m\\n\")\n",
        "    return avg_rushing_yds\n",
        "  if yard_type == 'passer':\n",
        "    avg_passing_yds = data['passing_yards'].sum() / total_games\n",
        "    print(f\"\\033[1;32m\\nChanged {yard_type} yards value to: {round(avg_passing_yds, 2)}\\033[0m\\n\")\n",
        "    return avg_passing_yds\n",
        "  else:\n",
        "    avg_receiving_yds = data['receiving_yards'].sum() / total_games\n",
        "    print(f\"\\033[1;32m\\nChanged {yard_type} yards value to: {round(avg_receiving_yds, 2)}\\033[0m\\n\")\n",
        "    return avg_receiving_yds\n",
        "\n",
        "#pbp_data.columns.values#<--shows all variables\n",
        "#pbp_data.head(10)"
      ]
    },
    {
      "cell_type": "markdown",
      "metadata": {
        "id": "7U9VfG3XDpgG"
      },
      "source": [
        "**EXCEPTION FUNCTIONS**"
      ]
    },
    {
      "cell_type": "code",
      "execution_count": null,
      "metadata": {
        "id": "xsrpmG6IDpUl"
      },
      "outputs": [],
      "source": [
        "# Check if player is a rookie player season<=1\n",
        "def rookie(player_data, player, column):\n",
        "  player_values = player_data[player_data[column] == player]\n",
        "  seasons_played = player_values['season'].nunique()\n",
        "  if seasons_played < 1:\n",
        "    print(f\"\\033[1;31mWARNING!!! {player} has played in {seasons_played} seasons.\\033[0m\")\n",
        "\n",
        "# QB ONLY, check if player has been traded since last season\n",
        "def traded_exc(player_data=None, player=None):\n",
        "  player_team_past = player_data[player_data['player_name'] == player]\n",
        "  last_season_team = player_data[player_data['season'] == last_year]['recent_team'].unique()\n",
        "  current_season_team = player_data[player_data['season'] == current_year]['recent_team'].unique()\n",
        "  team_count = player_team_past.groupby('season')['recent_team'].unique()\n",
        "  for season, team in team_count.items():\n",
        "    team_list = ','.join(team)\n",
        "    print(f\"In season {season}, {player_name} played for: {team_list}\")\n",
        "  if set(last_season_team)!= set(current_season_team):\n",
        "    print(f\"\\033[1;31mWARNING!!! {player} has been traded since the last season.\\033[0m\")\n",
        "\n",
        "# Check if player has played against opp team in the past 2-3 seasons\n",
        "def total_game_against_opp(player_data, def_team, player, pos):\n",
        "  total_games = player_data[(player_data['defteam'] == def_team) &\n",
        "                            (player_data[pos] == player)]['game_id'].nunique()\n",
        "\n",
        "  if total_games < 1:\n",
        "    print(f\"\\033[1;31mWARNING!!! {player} hasn't played against {def_team} in the last 2-3 years!\\033[0m\")\n",
        "    return True\n",
        "  if total_games < 2:\n",
        "    print(f\"\\033[1;31mWARNING!!! {player} has only played 1 game aginst {def_team} in the last 2-3 years!\\033[0m\")\n",
        "    return True\n",
        "\n",
        "  return False\n",
        "\n"
      ]
    },
    {
      "cell_type": "markdown",
      "metadata": {
        "id": "UucOX5S5DV_q"
      },
      "source": [
        "**QUARTERBACK VALUES**"
      ]
    },
    {
      "cell_type": "code",
      "execution_count": null,
      "metadata": {
        "id": "zSZsF_abgo3r"
      },
      "outputs": [],
      "source": [
        "\n",
        "qb_values = ['season', 'season_type','passer', 'game_id', 'pass', 'passing_yards', 'pass_attempt',\n",
        "            'complete_pass', 'rushing_yards',\n",
        "            'sack', 'yards_gained', 'pass_touchdown']\n",
        "\n",
        "qb_groupby_values = ['season', 'passer']\n",
        "\n",
        "qb_values_current = ['season', 'player_id', 'games','season_type', 'passing_yards', 'rushing_yards', 'sack_yards']\n",
        "\n",
        "qb_groupby_current_values = ['season', 'player_id']"
      ]
    },
    {
      "cell_type": "markdown",
      "metadata": {
        "id": "8C0Tue_fESm2"
      },
      "source": [
        "**RUNNINGBACK VALUES**"
      ]
    },
    {
      "cell_type": "code",
      "execution_count": null,
      "metadata": {
        "id": "cEepVBN0ERfZ"
      },
      "outputs": [],
      "source": [
        "rb_values = ['season', 'season_type','rusher', 'game_id', 'rushing_yards',\n",
        " 'rush_attempt', 'rush_touchdown', 'rush']\n",
        "\n",
        "rb_groupby_values = ['season', 'rusher']\n",
        "\n",
        "rb_values_current = ['season', 'player_id', 'games', 'season_type', 'rushing_yards', 'completions',\n",
        "                    'attempts', 'rushing_tds', 'receptions', 'targets', 'receiving_yards', 'carries']\n",
        "\n",
        "rb_groupby_current_values = ['season', 'player_id']"
      ]
    },
    {
      "cell_type": "markdown",
      "metadata": {
        "id": "pY1nzV-9JwFT"
      },
      "source": [
        "**WIDERECEIVERS VALUES**"
      ]
    },
    {
      "cell_type": "code",
      "execution_count": null,
      "metadata": {
        "id": "VEEGgPqgJ958"
      },
      "outputs": [],
      "source": [
        "wr_values =['season', 'season_type','receiver', 'game_id', 'receiving_yards',\n",
        " 'rush_attempt', 'touchdown', 'first_down']\n",
        "wr_groupby_values = ['season', 'receiver']\n",
        "wr_values_current = ['season', 'player_id', 'games', 'season_type', 'receiving_yards', 'receptions',\n",
        "                    'attempts', 'receptions', 'targets', 'receiving_yards', 'receiving_tds','receiving_first_downs', 'receiving_epa']\n",
        "wr_groupby_current_values = ['season', 'player_id']"
      ]
    },
    {
      "cell_type": "markdown",
      "metadata": {
        "id": "IVEqZ1hKrOkC"
      },
      "source": [
        "###**INPUT FROM USER**"
      ]
    },
    {
      "cell_type": "code",
      "execution_count": null,
      "metadata": {
        "colab": {
          "base_uri": "https://localhost:8080/"
        },
        "id": "4oOOsNPWdeZb",
        "outputId": "6fbf06e3-6e5c-4d04-95fd-014a730bee18"
      },
      "outputs": [
        {
          "name": "stdout",
          "output_type": "stream",
          "text": [
            "input of player name: Brock Purdy\n",
            "opposing team abbr: KC\n",
            "current season: 2024\n",
            "Enter player position (qb, rb, wr): qb\n",
            "Choose which game type: (ALL, REG, POST) REG\n",
            "Downcasting floats.\n",
            "In season 2023, Brock Purdy played for: SF\n",
            "In season 2024, Brock Purdy played for: SF\n"
          ]
        }
      ],
      "source": [
        "test = False\n",
        "\n",
        "if test:\n",
        "  player_name = \"Justin Jefferson\"\n",
        "  abbr_player_name = \"J.Jefferson\"\n",
        "  oppo_team = \"NYG\"\n",
        "  current_year = 2024\n",
        "  last_year = current_year - 1\n",
        "  column = player_pos('wr')\n",
        "  game_type = \"REG\"\n",
        "else:\n",
        "  player_name = input(\"input of player name: \")\n",
        "  abbr_player_name = parse_name(player_name)\n",
        "  oppo_team = input(\"opposing team abbr: \")\n",
        "  current_year = int(input(\"current season: \"))\n",
        "  column = player_pos(input(\"Enter player position (qb, rb, wr): \").strip().lower() )  # Ask for player position to decide which column to filter\n",
        "  last_year = current_year - 1\n",
        "  game_type = input(\"Choose which game type: (ALL, REG, POST) \")\n",
        "\n",
        "# Check for exceptions\n",
        "\n",
        "rookie(pbp_data, abbr_player_name, column)\n",
        "if column == 'passer':\n",
        "    pbp_data_weekly = nfl.import_weekly_data([last_year, current_year], downcast=True)\n",
        "    traded_exc(pbp_data_weekly, abbr_player_name)\n",
        "\n",
        "swap_percentage = total_game_against_opp(pbp_data, oppo_team, abbr_player_name, column)"
      ]
    },
    {
      "cell_type": "markdown",
      "metadata": {
        "id": "rSOg1TY9kKvi"
      },
      "source": [
        "TEAM PLAY DATA LAST 2-3 YEARS"
      ]
    },
    {
      "cell_type": "code",
      "execution_count": 14,
      "metadata": {
        "colab": {
          "base_uri": "https://localhost:8080/"
        },
        "id": "jDgQ43icgoo4",
        "outputId": "b7ff594b-9147-4f09-ff63-9166f73ff779"
      },
      "outputs": [
        {
          "output_type": "stream",
          "name": "stdout",
          "text": [
            " season  passer  total_games  avg passing ypg  pass  passing_yards  pass_attempt  complete_pass  rushing_yards  sack  yards_gained  pass_touchdown\n",
            "   2022 B.Purdy            3           264.67  31.0          217.0          27.0           17.0            1.0   1.0         212.0             2.0\n",
            "   2023 B.Purdy            3           264.67  64.0          577.0          61.0           40.0           11.0   4.0         573.0             3.0\n"
          ]
        }
      ],
      "source": [
        "# Filter play-by-play data for the player, opponent team, and current season\n",
        "player_vs_oppo_stats = pbp_data[\n",
        "    (pbp_data[column] == abbr_player_name) &           # Filter by the correct player column\n",
        "    (pbp_data['defteam'] == oppo_team.upper()) &\n",
        "    (pbp_data['season_type'] == game_type)\n",
        "    # Filter by opponent team\n",
        "]\n",
        "\n",
        "#check_name(player_name, player_vs_oppo_stats)\n",
        "if player_vs_oppo_stats.empty:\n",
        "    print(f\"No data found for player {abbr_player_name} against team {oppo_team.upper()} in {game_type} between 2021-2023.\")\n",
        "    avg_yards_vs_opp = opp_team_stats(oppo_team, last_year, column)\n",
        "\n",
        "else:\n",
        "  if column == 'passer':\n",
        "      avg_yards_vs_opp = player_stats_summary(player_vs_oppo_stats, qb_values, qb_groupby_values, column)\n",
        "  if column == 'rusher':\n",
        "      avg_yards_vs_opp = player_stats_summary(player_vs_oppo_stats, rb_values, rb_groupby_values, column)\n",
        "  if column == 'receiver':\n",
        "      avg_yards_vs_opp = player_stats_summary(player_vs_oppo_stats, wr_values, wr_groupby_values, column)\n",
        "\n"
      ]
    },
    {
      "cell_type": "markdown",
      "metadata": {
        "id": "7APuRVlfrbPx"
      },
      "source": [
        "**PLAYER CURRENT SEASON STATS**"
      ]
    },
    {
      "cell_type": "code",
      "execution_count": 15,
      "metadata": {
        "colab": {
          "base_uri": "https://localhost:8080/",
          "height": 326
        },
        "id": "CMGMxIgRgtmr",
        "outputId": "36fc20ec-95cf-45dc-a1b4-255aba8215d2"
      },
      "outputs": [
        {
          "output_type": "error",
          "ename": "ValueError",
          "evalue": "player_id not found",
          "traceback": [
            "\u001b[0;31m---------------------------------------------------------------------------\u001b[0m",
            "\u001b[0;31mValueError\u001b[0m                                Traceback (most recent call last)",
            "\u001b[0;32m<ipython-input-15-839c13ddaf28>\u001b[0m in \u001b[0;36m<cell line: 2>\u001b[0;34m()\u001b[0m\n\u001b[1;32m      1\u001b[0m \u001b[0mpbp_data_seasonal\u001b[0m \u001b[0;34m=\u001b[0m \u001b[0mnfl\u001b[0m\u001b[0;34m.\u001b[0m\u001b[0mimport_seasonal_data\u001b[0m\u001b[0;34m(\u001b[0m\u001b[0;34m[\u001b[0m\u001b[0mcurrent_year\u001b[0m\u001b[0;34m]\u001b[0m\u001b[0;34m,\u001b[0m \u001b[0;34m'REG'\u001b[0m\u001b[0;34m)\u001b[0m\u001b[0;34m\u001b[0m\u001b[0;34m\u001b[0m\u001b[0m\n\u001b[1;32m      2\u001b[0m player_current_season_stats = pbp_data_seasonal[\n\u001b[0;32m----> 3\u001b[0;31m     \u001b[0;34m(\u001b[0m\u001b[0mpbp_data_seasonal\u001b[0m\u001b[0;34m[\u001b[0m\u001b[0;34m'player_id'\u001b[0m\u001b[0;34m]\u001b[0m \u001b[0;34m==\u001b[0m \u001b[0mplayer_info\u001b[0m\u001b[0;34m(\u001b[0m\u001b[0mplayer_name\u001b[0m\u001b[0;34m)\u001b[0m\u001b[0;34m)\u001b[0m \u001b[0;34m&\u001b[0m\u001b[0;34m\u001b[0m\u001b[0;34m\u001b[0m\u001b[0m\n\u001b[0m\u001b[1;32m      4\u001b[0m     \u001b[0;34m(\u001b[0m\u001b[0mpbp_data_seasonal\u001b[0m\u001b[0;34m[\u001b[0m\u001b[0;34m'season_type'\u001b[0m\u001b[0;34m]\u001b[0m \u001b[0;34m==\u001b[0m \u001b[0mgame_type\u001b[0m\u001b[0;34m)\u001b[0m\u001b[0;34m\u001b[0m\u001b[0;34m\u001b[0m\u001b[0m\n\u001b[1;32m      5\u001b[0m ]      #Filter by season game type\n",
            "\u001b[0;32m<ipython-input-5-5c0036fb6255>\u001b[0m in \u001b[0;36mplayer_info\u001b[0;34m(player_name)\u001b[0m\n\u001b[1;32m    127\u001b[0m     \u001b[0;32mreturn\u001b[0m \u001b[0mplayer_id\u001b[0m\u001b[0;34m\u001b[0m\u001b[0;34m\u001b[0m\u001b[0m\n\u001b[1;32m    128\u001b[0m   \u001b[0;32melse\u001b[0m\u001b[0;34m:\u001b[0m\u001b[0;34m\u001b[0m\u001b[0;34m\u001b[0m\u001b[0m\n\u001b[0;32m--> 129\u001b[0;31m     \u001b[0;32mraise\u001b[0m \u001b[0mValueError\u001b[0m\u001b[0;34m(\u001b[0m\u001b[0;34m\"player_id not found\"\u001b[0m\u001b[0;34m)\u001b[0m\u001b[0;34m\u001b[0m\u001b[0;34m\u001b[0m\u001b[0m\n\u001b[0m\u001b[1;32m    130\u001b[0m \u001b[0;34m\u001b[0m\u001b[0m\n\u001b[1;32m    131\u001b[0m \u001b[0;31m# Get Opponent team Rushing and Passing Yards per Game\u001b[0m\u001b[0;34m\u001b[0m\u001b[0;34m\u001b[0m\u001b[0m\n",
            "\u001b[0;31mValueError\u001b[0m: player_id not found"
          ]
        }
      ],
      "source": [
        "pbp_data_seasonal = nfl.import_seasonal_data([current_year], 'REG')\n",
        "player_current_season_stats = pbp_data_seasonal[\n",
        "    (pbp_data_seasonal['player_id'] == player_info(player_name)) &\n",
        "    (pbp_data_seasonal['season_type'] == game_type)\n",
        "]      #Filter by season game type\n",
        "\n",
        "if column == 'passer':\n",
        "  avg_yards_cur = player_stats_summary(player_current_season_stats, qb_values_current, qb_groupby_current_values, column, 'current', player_name)\n",
        "if column == 'rusher':\n",
        "  avg_yards_cur = player_stats_summary(player_current_season_stats, rb_values_current, rb_groupby_current_values, column, 'current', player_name)\n",
        "if column == 'receiver':\n",
        "  avg_yards_cur = player_stats_summary(player_current_season_stats, wr_values_current, wr_groupby_current_values, column, 'current', player_name)\n"
      ]
    },
    {
      "cell_type": "markdown",
      "metadata": {
        "id": "NrcVyj_7rg96"
      },
      "source": [
        "**PLAYER LAST SEASON STATS**"
      ]
    },
    {
      "cell_type": "code",
      "execution_count": null,
      "metadata": {
        "colab": {
          "base_uri": "https://localhost:8080/"
        },
        "id": "2T8OFOuSif0J",
        "outputId": "78a010b6-1e9a-4e59-e86b-289433f5a1e7"
      },
      "outputs": [
        {
          "name": "stdout",
          "output_type": "stream",
          "text": [
            " season  passer  total_games  avg passing ypg  pass  passing_yards  pass_attempt  complete_pass  rushing_yards  sack  yards_gained  pass_touchdown\n",
            "   2023 B.Purdy           16            267.5 512.0         4280.0         469.0          308.0          138.0  28.0        4265.0            31.0\n"
          ]
        }
      ],
      "source": [
        "player_last_season_stats = pbp_data[\n",
        "    (pbp_data[column] == abbr_player_name) &           # Filter by the correct player column # Filter by opponent team\n",
        "    (pbp_data['season'] == last_year)&\n",
        "     (pbp_data['season_type'] == game_type)     # Filter by current season\n",
        "]\n",
        "'''if player_last_season_stats.empty:\n",
        "    print(f\"\\033[1;31mNo data found for player {abbr_player_name} against team in {game_type} the {last_ year} season.\\033[0m\")'''\n",
        "if column == 'passer':\n",
        "    avg_yards_last = player_stats_summary(player_last_season_stats, qb_values, qb_groupby_values, column)\n",
        "elif column == 'rusher':\n",
        "    avg_yards_last = player_stats_summary(player_last_season_stats, rb_values, rb_groupby_values, column)\n",
        "else:\n",
        "    avg_yards_last = player_stats_summary(player_last_season_stats, wr_values, wr_groupby_values, column)\n"
      ]
    },
    {
      "cell_type": "markdown",
      "metadata": {
        "id": "fixhK1OPo9jU"
      },
      "source": [
        "**CALCULATE HOW MANY WEEKS WE ARE IN THE SEASON**"
      ]
    },
    {
      "cell_type": "code",
      "execution_count": null,
      "metadata": {
        "colab": {
          "base_uri": "https://localhost:8080/"
        },
        "id": "oOQw4ojquknX",
        "outputId": "eeb740eb-bc39-4fe4-e271-5287ceac62c2"
      },
      "outputs": [
        {
          "name": "stdout",
          "output_type": "stream",
          "text": [
            "Downcasting floats.\n",
            "Current week in REG season: 5\n"
          ]
        }
      ],
      "source": [
        "# Get weekly data\n",
        "pbp_data_weekly = nfl.import_weekly_data([2024], downcast=True)\n",
        "\n",
        "\n",
        "current_week = pbp_data_weekly[pbp_data_weekly['season_type'] == game_type]['week'].max()\n",
        "print(\"Current week in \" + game_type + \" season:\", current_week)"
      ]
    },
    {
      "cell_type": "markdown",
      "metadata": {
        "id": "xJ2MHRLWKhMP"
      },
      "source": [
        "**GET NUMBER OF GAMES PLAYER PLAYED CURRENT SEASON**"
      ]
    },
    {
      "cell_type": "code",
      "execution_count": null,
      "metadata": {
        "colab": {
          "base_uri": "https://localhost:8080/"
        },
        "id": "ewvDU92mKeY5",
        "outputId": "b3084095-bebc-45c5-fc0c-59b3b72d4989"
      },
      "outputs": [
        {
          "name": "stdout",
          "output_type": "stream",
          "text": [
            "game played current season: 5.\n"
          ]
        }
      ],
      "source": [
        "current_games = player_current_season_stats['games'].sum()\n",
        "print(f\"game played current season: {current_games}.\")"
      ]
    },
    {
      "cell_type": "markdown",
      "metadata": {
        "id": "-ba5cNChrmvM"
      },
      "source": [
        "**CALCULATIONS FOR FORMULA**"
      ]
    },
    {
      "cell_type": "code",
      "execution_count": null,
      "metadata": {
        "id": "AwGu7sjEqUi2"
      },
      "outputs": [],
      "source": [
        "def final_calc(current, last, team_played):\n",
        "  return (current * current_severity +\n",
        "          last * last_severity +\n",
        "          team_played * team_played_severity)"
      ]
    },
    {
      "cell_type": "code",
      "execution_count": null,
      "metadata": {
        "colab": {
          "base_uri": "https://localhost:8080/"
        },
        "id": "tXHh3ku7rttq",
        "outputId": "9fd4ced9-ff29-4965-dfc5-955947373cee"
      },
      "outputs": [
        {
          "name": "stdout",
          "output_type": "stream",
          "text": [
            "\u001b[1;32m\n",
            "\n",
            "FINAL CALCULATED PROJECTION OF RUSH YARDS: 8.93\u001b[0m\n",
            "\n",
            "\n",
            "\u001b[1;32m\n",
            "\n",
            "FINAL CALCULATED PROJECTION OF PASS YARDS: 188.79\u001b[0m\n",
            "\n",
            "\n"
          ]
        }
      ],
      "source": [
        "# Calculate all percentages for each severity\n",
        "percentage_tweaker = 1.1765\n",
        "current_severity = 0.2 + (current_games * percentage_tweaker)/100\n",
        "last_severity = 0.4 - (current_games * percentage_tweaker)/100\n",
        "if swap_percentage is True:\n",
        "  team_played_severity = current_severity\n",
        "  current_severity = 0.4\n",
        "else:\n",
        "  team_played_severity = 0.4\n",
        "\n",
        "\n",
        "# Check if player is dual-threat qb(running qb)\n",
        "check_rush_yards = final_calc(average_calc(player_current_season_stats, 'current', 'rushing') ,\n",
        "                              average_calc(player_last_season_stats, None, 'rushing'),\n",
        "                              average_calc(player_vs_oppo_stats, None, 'rushing')  )\n",
        "final_calculated_projection = final_calc(avg_yards_cur,  avg_yards_last, avg_yards_vs_opp )\n",
        "print(f\"\\033[1;32m\\n\\nFINAL CALCULATED PROJECTION OF RUSH YARDS: {round(check_rush_yards, 2)}\\033[0m\\n\\n\")\n",
        "if column == \"passer\":\n",
        "  print(f\"\\033[1;32m\\n\\nFINAL CALCULATED PROJECTION OF PASS YARDS: {round(final_calculated_projection, 2)}\\033[0m\\n\\n\")\n",
        "\n",
        "if column == \"receiver\":\n",
        "    print(f\"\\033[1;32m\\n\\nFINAL CALCULATED PROJECTION OF RECEIVING YARDS: {round(final_calculated_projection, 2)}\\033[0m\\n\\n\")\n",
        "\n",
        "\n",
        "if check_rush_yards>= 40.99:\n",
        "  final_calculated_projection = final_calc(avg_yards_cur,  avg_yards_last, avg_yards_vs_opp ) + check_rush_yards\n",
        "  print(f\"\\033[1;32m\\n\\nFINAL CALCULATED PROJECTION OF PASS YARDS WITH ADDED RUSH YARDS: {round(final_calculated_projection, 2)}\\033[0m\\n\\n\")\n",
        "\n"
      ]
    },
    {
      "cell_type": "code",
      "execution_count": null,
      "metadata": {
        "colab": {
          "base_uri": "https://localhost:8080/",
          "height": 90
        },
        "id": "CWny3rmEJh7_",
        "outputId": "08cea471-314d-4966-c248-e51ef3c2cb60"
      },
      "outputs": [
        {
          "data": {
            "application/vnd.google.colaboratory.intrinsic+json": {
              "type": "string"
            },
            "text/plain": [
              "'import random\\nimport time\\n\\nseasons = [str(season) for season in range (2024)]\\n\\nplayer_abbrs = []\\n#create dataframe\\nnfl_df = pd.DataFrame()\\n\\n#looping through the games\\nfor season in seasons:\\n  for players in player_abbrs:\\n    url = \"https://www.pro-football-reference.com/teams\"'"
            ]
          },
          "execution_count": 17,
          "metadata": {},
          "output_type": "execute_result"
        }
      ],
      "source": [
        "'''import random\n",
        "import time\n",
        "\n",
        "seasons = [str(season) for season in range (2024)]\n",
        "\n",
        "player_abbrs = []\n",
        "#create dataframe\n",
        "nfl_df = pd.DataFrame()\n",
        "\n",
        "#looping through the games\n",
        "for season in seasons:\n",
        "  for players in player_abbrs:\n",
        "    url = \"https://www.pro-football-reference.com/teams\"'''"
      ]
    },
    {
      "cell_type": "code",
      "execution_count": null,
      "metadata": {
        "colab": {
          "base_uri": "https://localhost:8080/"
        },
        "id": "BvkjVBjZ3QRQ",
        "outputId": "8ee02423-4cfe-41ef-efd2-149a57c051a5"
      },
      "outputs": [
        {
          "name": "stdout",
          "output_type": "stream",
          "text": [
            "Index(['player_id', 'season', 'season_type', 'completions', 'attempts',\n",
            "       'passing_yards', 'passing_tds', 'interceptions', 'sacks', 'sack_yards',\n",
            "       'sack_fumbles', 'sack_fumbles_lost', 'passing_air_yards',\n",
            "       'passing_yards_after_catch', 'passing_first_downs', 'passing_epa',\n",
            "       'passing_2pt_conversions', 'pacr', 'dakota', 'carries', 'rushing_yards',\n",
            "       'rushing_tds', 'rushing_fumbles', 'rushing_fumbles_lost',\n",
            "       'rushing_first_downs', 'rushing_epa', 'rushing_2pt_conversions',\n",
            "       'receptions', 'targets', 'receiving_yards', 'receiving_tds',\n",
            "       'receiving_fumbles', 'receiving_fumbles_lost', 'receiving_air_yards',\n",
            "       'receiving_yards_after_catch', 'receiving_first_downs', 'receiving_epa',\n",
            "       'receiving_2pt_conversions', 'racr', 'target_share', 'air_yards_share',\n",
            "       'wopr_x', 'special_teams_tds', 'fantasy_points', 'fantasy_points_ppr',\n",
            "       'games', 'tgt_sh', 'ay_sh', 'yac_sh', 'wopr_y', 'ry_sh', 'rtd_sh',\n",
            "       'rfd_sh', 'rtdfd_sh', 'dom', 'w8dom', 'yptmpa', 'ppr_sh'],\n",
            "      dtype='object')\n"
          ]
        },
        {
          "data": {
            "text/plain": [
              "['completions',\n",
              " 'attempts',\n",
              " 'rushing_tds',\n",
              " 'receptions',\n",
              " 'targets',\n",
              " 'receiving_yards']"
            ]
          },
          "execution_count": 18,
          "metadata": {},
          "output_type": "execute_result"
        }
      ],
      "source": [
        "'''pbp_fei = nfl.import_seasonal_rosters([2024])\n",
        "\n",
        "# Load play-by-play data for the 2024 season\n",
        "pbp_data_2024 = nfl.import_weekly_data([2024], downcast=True)\n",
        "pbp_data_seasonal = nfl.import_seasonal_data([current_year], 'ALL')\n",
        "print(pbp_data_seasonal.columns)\n",
        "print(pbp_data_seasonal.sample(10))\n",
        "# Check the first few rows to confirm you're getting 2024 season data\n",
        "player_stats_summary(pbp_fei)'''\n",
        "pbp_data_REG = nfl.import_seasonal_data([2024], 'REG')\n",
        "print(pbp_data_REG.columns)\n",
        "['completions', 'attempts', 'rushing_tds', 'receptions', 'targets', 'receiving_yards']"
      ]
    },
    {
      "cell_type": "code",
      "execution_count": null,
      "metadata": {
        "colab": {
          "base_uri": "https://localhost:8080/",
          "height": 54
        },
        "id": "A2KgFf_0LsJK",
        "outputId": "95eabb96-c6f9-422b-edb2-b1f8aee240f7"
      },
      "outputs": [
        {
          "data": {
            "application/vnd.google.colaboratory.intrinsic+json": {
              "type": "string"
            },
            "text/plain": [
              "'pbp_data_2024 = nfl.import_weekly_data([2023], downcast=True)\\npbp_data.columns.values\\npbp_data_2024.sample(1)'"
            ]
          },
          "execution_count": 19,
          "metadata": {},
          "output_type": "execute_result"
        }
      ],
      "source": [
        "'''pbp_data_2024 = nfl.import_weekly_data([2023], downcast=True)\n",
        "pbp_data.columns.values\n",
        "pbp_data_2024.sample(1)'''"
      ]
    },
    {
      "cell_type": "code",
      "execution_count": null,
      "metadata": {
        "id": "upOjNv-uOsba"
      },
      "outputs": [],
      "source": [
        "#inspired by Nick Wan on Youtube"
      ]
    }
  ],
  "metadata": {
    "colab": {
      "provenance": [],
      "authorship_tag": "ABX9TyPuJN9ysK0DNwlsydxABW8o",
      "include_colab_link": true
    },
    "kernelspec": {
      "display_name": "Python 3",
      "name": "python3"
    },
    "language_info": {
      "name": "python"
    }
  },
  "nbformat": 4,
  "nbformat_minor": 0
}